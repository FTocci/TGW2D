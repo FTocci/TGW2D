{
 "cells": [
  {
   "cell_type": "markdown",
   "metadata": {},
   "source": [
    "# STUDIO PRELIMINARE"
   ]
  },
  {
   "cell_type": "markdown",
   "metadata": {},
   "source": [
    "#### Maraziti Matteo, Tocci Federico e Scordino Giacomo"
   ]
  },
  {
   "cell_type": "markdown",
   "metadata": {},
   "source": [
    "```\n",
    "Le istruzione presentate di seguito sono state utilizzate per la realizzazione dei primi test.  L'obiettivo è stato quello di verificare il corretto funzionamento dell'algoritmo e di individuare i moduli di interesse.\n",
    "Con l'utilizzo di ViewerGL è stato possibile visualizzare graficamente il risultato delle avvenute elaborazioni.\n",
    "```"
   ]
  },
  {
   "cell_type": "code",
   "execution_count": 24,
   "metadata": {},
   "outputs": [],
   "source": [
    "using ViewerGL\n",
    "GL = ViewerGL\n",
    "using LinearAlgebraicRepresentation\n",
    "Lar = LinearAlgebraicRepresentation\n",
    "using SparseArrays\n",
    "\n",
    "include(\"../src/arrangement/planar_arrangement.jl\") \n",
    "\n",
    "V = [2 2; 1.5 2; 3 3.5; 1 3; 5 3; 1 2; 5 2]\n",
    "EV = SparseArrays.sparse(Array{Int8, 2}([\n",
    "               [1 1 0 0 0 0 0] #1->1,2\n",
    "               [0 1 1 0 0 0 0] #2->2,3\n",
    "               [1 0 1 0 0 0 0] #3->1,3\n",
    "               [0 0 0 1 1 0 0] #4->4,5\n",
    "               [0 0 0 0 0 1 1] #5->6,7\n",
    "           ]))\n",
    "sigma=spzeros(Int8, 0)\n",
    "return_edge_map=false\n",
    "multiproc=false\n",
    "W = convert(Lar.Points,V')\n",
    "\n",
    "V, copEV, copFE=planar_arrangement(V,EV,sigma,return_edge_map,multiproc)\n",
    "\n",
    "EV = Lar.cop2lar(copEV)\n",
    "FE = Lar.cop2lar(copFE)\n",
    "FV=EV\n",
    "FV = convert(Lar.Cells,FV)\n",
    "VV = [[k] for k=1:size(V,2)]\n",
    "model = (W, [VV,EV,FV])::Lar.LARmodel;\n",
    "meshes = GL.numbering(1.5)(model, GL.COLORS[1], 0.1);\n",
    "GL.VIEW(meshes);"
   ]
  },
  {
   "cell_type": "markdown",
   "metadata": {},
   "source": [
    "[RisultatoTest](/docs/src/RisultatoTest.PNG)"
   ]
  },
  {
   "cell_type": "markdown",
   "metadata": {},
   "source": [
    "### Analisi Tempistiche"
   ]
  },
  {
   "cell_type": "markdown",
   "metadata": {},
   "source": [
    "Dopo aver constatato il corretto funzionamento del codice principale bisogna effettuare analisi in termini di tempistiche di esecuzione dell'algoritmo.\n",
    "\n",
    "La funzione planar_arrangement è costituita da un codice molto minimale, in quanto la parte più importante dell'esecuzione avviene nelle funzioni esterne che sono chiamate all'interno di essa. "
   ]
  },
  {
   "cell_type": "code",
   "execution_count": 22,
   "metadata": {},
   "outputs": [
    {
     "data": {
      "text/plain": [
       "planar_arrangement (generic function with 4 methods)"
      ]
     },
     "metadata": {},
     "output_type": "display_data"
    }
   ],
   "source": [
    "function planar_arrangement(V::Lar.Points, copEV::Lar.ChainOp, sigma::Lar.Chain=spzeros(Int8, 0),\n",
    "    return_edge_map::Bool=false,\n",
    "    multiproc::Bool=false)\n",
    "#planar_arrangement_1\n",
    "V,copEV,sigma,edge_map=planar_arrangement_1(V,copEV,sigma,return_edge_map,multiproc)\n",
    "# cleandecomposition\n",
    "if sigma.n > 0\n",
    "    V,copEV=cleandecomposition(V, copEV, sigma, edge_map)\n",
    "end\n",
    "bicon_comps = Lar.Arrangement.biconnected_components(copEV)\n",
    "if isempty(bicon_comps)\n",
    "    println(\"No biconnected components found.\")\n",
    "    if (return_edge_map)\n",
    "        return (nothing, nothing, nothing, nothing)\n",
    "    else\n",
    "        return (nothing, nothing, nothing)\n",
    "    end\n",
    "end\n",
    "#Planar_arrangement_2\n",
    "V,copEV,FE=Lar.Arrangement.planar_arrangement_2(V,copEV,bicon_comps,edge_map,sigma)\n",
    "if (return_edge_map)\n",
    "     return V, copEV, FE, edge_map\n",
    "else\n",
    "     return V, copEV, FE\n",
    "end\n",
    "end"
   ]
  },
  {
   "cell_type": "markdown",
   "metadata": {},
   "source": [
    "Le funzioni chiamate internamente alla funzione planar_arrangement sono:\n",
    "1. planar_arrangement_1\n",
    "2. cleandecomposition\n",
    "3. biconnected_components\n",
    "4. planar_arrangement_2\n",
    "\n",
    "È possibile quindi pensare come sia possibile migliorare le tempistiche andando ad operare internamente alle presenti funzioni."
   ]
  },
  {
   "cell_type": "markdown",
   "metadata": {},
   "source": [
    "### Conclusioni\n",
    "\n",
    "All'interno di ciascuna di queste funzioni vi sono ulteriori chiamate a funzioni esterne, in queste ultime si identifica come fattor comune che innalza notevolmente i tempi di esecuzione la vasta presenza di cicli for, i quali dovranno essere eseguiti per ciascun elemento da elaborare. \n",
    "Come ovviare questo problema verrà discusso all'interno del [Notebook finale](NotebookFinale.ipynb)."
   ]
  }
 ],
 "metadata": {
  "kernelspec": {
   "display_name": "Julia 1.7.2",
   "language": "julia",
   "name": "julia-1.7"
  },
  "language_info": {
   "file_extension": ".jl",
   "mimetype": "application/julia",
   "name": "julia",
   "version": "1.7.2"
  }
 },
 "nbformat": 4,
 "nbformat_minor": 2
}
