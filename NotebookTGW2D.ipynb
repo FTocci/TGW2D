{
 "cells": [
  {
   "cell_type": "markdown",
   "metadata": {},
   "source": [
    "[Link repository del progetto 6](https://github.com/FTocci/TGW2D)\n",
    "\n",
    "Maraziti Matteo 534932\n",
    "\n",
    "Tocci Federico 533449\n",
    "\n",
    "Scordino Giacomo 533393"
   ]
  },
  {
   "cell_type": "markdown",
   "metadata": {},
   "source": [
    "**STUDIO PRELIMINARE**"
   ]
  },
  {
   "cell_type": "code",
   "execution_count": 12,
   "metadata": {},
   "outputs": [],
   "source": [
    "using ViewerGL\n",
    "GL = ViewerGL\n",
    "using LinearAlgebraicRepresentation\n",
    "Lar = LinearAlgebraicRepresentation\n",
    "using SparseArrays\n",
    "\n",
    "include(\"../LinearAlgebraicRepresentation.jl-master/src/arrangement/planar_arrangement.jl\")\n",
    "\n",
    "V = [2 2; 1.5 2; 3 3.5; 1 3; 5 3; 1 2; 5 2]\n",
    "\n",
    "EV = SparseArrays.sparse(Array{Int8, 2}([\n",
    "               [1 1 0 0 0 0 0] #1->1,2\n",
    "               [0 1 1 0 0 0 0] #2->2,3\n",
    "               [1 0 1 0 0 0 0] #3->1,3\n",
    "               [0 0 0 1 1 0 0] #4->4,5\n",
    "               [0 0 0 0 0 1 1] #5->6,7\n",
    "           ]))\n",
    "\n",
    "sigma=spzeros(Int8, 0)\n",
    "\n",
    "return_edge_map=false\n",
    "\n",
    "multiproc=false\n",
    "\n",
    "W = convert(Lar.Points,V')\n",
    "\n",
    "V, copEV, copFE=planar_arrangement(V,EV,sigma,return_edge_map,multiproc)\n",
    "\n",
    "EV = Lar.cop2lar(copEV)\n",
    "\n",
    "FE = Lar.cop2lar(copFE)\n",
    "\n",
    "FV=EV\n",
    "\n",
    "FV = convert(Lar.Cells,FV)\n",
    "\n",
    "VV = [[k] for k=1:size(V,2)]\n",
    "\n",
    "model = (W, [VV,EV,FV])::Lar.LARmodel;\n",
    "\n",
    "meshes = GL.numbering(1.5)(model, GL.COLORS[1], 0.1);\n",
    "\n",
    "GL.VIEW(meshes);"
   ]
  },
  {
   "cell_type": "markdown",
   "metadata": {},
   "source": [
    "Le operazioni sopra presentate sono state utilizzate per la realizzazione dei primi test.  L'obiettivo e' stato quello di verificare il corretto funzionamento dell'algoritmo e di individuare i moduli di interesse.   Con l'utilizzo di ViewerGL è stato possibile visualizzare graficamente il piano partizionato individuato dai parametri scelti."
   ]
  },
  {
   "cell_type": "markdown",
   "metadata": {},
   "source": [
    "[RisultatoTest](/images/RisultatoTest.PNG)"
   ]
  },
  {
   "cell_type": "markdown",
   "metadata": {},
   "source": [
    "--------------------------------------"
   ]
  },
  {
   "cell_type": "markdown",
   "metadata": {},
   "source": [
    "**STUDIO ESECUTIVO**"
   ]
  },
  {
   "cell_type": "markdown",
   "metadata": {},
   "source": [
    "Esecuzione classe di test prima di apportare modifiche(parallelizzazione del codice e rifattorizzazione)."
   ]
  },
  {
   "cell_type": "code",
   "execution_count": 46,
   "metadata": {},
   "outputs": [
    {
     "name": "stdout",
     "output_type": "stream",
     "text": [
      "\u001b[0m\u001b[1mTest Summary:            | \u001b[22m\u001b[32m\u001b[1mPass  \u001b[22m\u001b[39m\u001b[36m\u001b[1mTotal\u001b[22m\u001b[39m\n",
      "Edge fragmentation tests | \u001b[32m   3  \u001b[39m\u001b[36m    3\u001b[39m\n",
      "\u001b[0m\u001b[1mTest Summary:           | \u001b[22m\u001b[32m\u001b[1mPass  \u001b[22m\u001b[39m\u001b[36m\u001b[1mTotal\u001b[22m\u001b[39m\n",
      "merge_vertices test set | \u001b[32m   2  \u001b[39m\u001b[36m    2\u001b[39m\n",
      "\u001b[0m\u001b[1mTest Summary:                   | \u001b[22m\u001b[32m\u001b[1mPass  \u001b[22m\u001b[39m\u001b[36m\u001b[1mTotal\u001b[22m\u001b[39m\n",
      "biconnected_components test set | \u001b[32m   1  \u001b[39m\u001b[36m    1\u001b[39m\n",
      "\u001b[0m\u001b[1mTest Summary: | \u001b[22m\u001b[32m\u001b[1mPass  \u001b[22m\u001b[39m\u001b[36m\u001b[1mTotal\u001b[22m\u001b[39m\n",
      "Face creation | \u001b[32m   5  \u001b[39m\u001b[36m    5\u001b[39m\n",
      "  3.132530 seconds (1.71 M allocations: 94.434 MiB, 2.15% gc time, 85.78% compilation time)\n"
     ]
    },
    {
     "data": {
      "text/plain": [
       "Test.DefaultTestSet(\"Face creation\", Any[Test.DefaultTestSet(\"External cell individuation\", Any[], 1, false, false), Test.DefaultTestSet(\"Containment test\", Any[], 2, false, false), Test.DefaultTestSet(\"Transitive reduction\", Any[], 1, false, false), Test.DefaultTestSet(\"Cell merging\", Any[], 1, false, false)], 0, false, false)"
      ]
     },
     "execution_count": 46,
     "metadata": {},
     "output_type": "execute_result"
    }
   ],
   "source": [
    "@time include(\"../LinearAlgebraicRepresentation.jl-master/test/planar_arrangement.jl\")"
   ]
  },
  {
   "cell_type": "markdown",
   "metadata": {},
   "source": [
    "Esecuzione post-modifiche, parallelizzate porzioni di codice e rifattorizzazione"
   ]
  },
  {
   "cell_type": "code",
   "execution_count": 48,
   "metadata": {},
   "outputs": [
    {
     "name": "stdout",
     "output_type": "stream",
     "text": [
      "\u001b[0m\u001b[1mTest Summary:            | \u001b[22m\u001b[32m\u001b[1mPass  \u001b[22m\u001b[39m\u001b[36m\u001b[1mTotal\u001b[22m\u001b[39m\n",
      "Edge fragmentation tests | \u001b[32m   3  \u001b[39m\u001b[36m    3\u001b[39m\n",
      "\u001b[0m\u001b[1mTest Summary:           | \u001b[22m\u001b[32m\u001b[1mPass  \u001b[22m\u001b[39m\u001b[36m\u001b[1mTotal\u001b[22m\u001b[39m\n",
      "merge_vertices test set | \u001b[32m   2  \u001b[39m\u001b[36m    2\u001b[39m\n",
      "\u001b[0m\u001b[1mTest Summary:                   | \u001b[22m\u001b[32m\u001b[1mPass  \u001b[22m\u001b[39m\u001b[36m\u001b[1mTotal\u001b[22m\u001b[39m\n",
      "biconnected_components test set | \u001b[32m   1  \u001b[39m\u001b[36m    1\u001b[39m\n",
      "\u001b[0m\u001b[1mTest Summary: | \u001b[22m\u001b[32m\u001b[1mPass  \u001b[22m\u001b[39m\u001b[36m\u001b[1mTotal\u001b[22m\u001b[39m\n",
      "Face creation | \u001b[32m   5  \u001b[39m\u001b[36m    5\u001b[39m\n",
      "  2.275163 seconds (1.71 M allocations: 94.430 MiB, 85.12% compilation time)\n"
     ]
    },
    {
     "data": {
      "text/plain": [
       "Test.DefaultTestSet(\"Face creation\", Any[Test.DefaultTestSet(\"External cell individuation\", Any[], 1, false, false), Test.DefaultTestSet(\"Containment test\", Any[], 2, false, false), Test.DefaultTestSet(\"Transitive reduction\", Any[], 1, false, false), Test.DefaultTestSet(\"Cell merging\", Any[], 1, false, false)], 0, false, false)"
      ]
     },
     "execution_count": 48,
     "metadata": {},
     "output_type": "execute_result"
    }
   ],
   "source": [
    "@time include(\"../LinearAlgebraicRepresentation.jl-master/test/planar_arrangement.jl\")"
   ]
  },
  {
   "cell_type": "markdown",
   "metadata": {},
   "source": [
    "*Risparmio temporale del 30%*"
   ]
  },
  {
   "cell_type": "markdown",
   "metadata": {},
   "source": [
    "------------------------------------------"
   ]
  }
 ],
 "metadata": {
  "kernelspec": {
   "display_name": "Julia 1.7.2",
   "language": "julia",
   "name": "julia-1.7"
  },
  "language_info": {
   "file_extension": ".jl",
   "mimetype": "application/julia",
   "name": "julia",
   "version": "1.7.2"
  }
 },
 "nbformat": 4,
 "nbformat_minor": 2
}
